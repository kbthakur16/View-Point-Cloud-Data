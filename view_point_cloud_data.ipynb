{
 "cells": [
  {
   "cell_type": "markdown",
   "id": "ceb6e243",
   "metadata": {},
   "source": [
    "### Given a point cloud data of a city street view as shown in Fig. 1, write code to split the data into four parts as shown Figs. 2, 3, 4 and 5. \n",
    "- You can only use pandas library for the task. \n",
    "- For visualization within jupyter notebook you can use open3D (Optional)."
   ]
  },
  {
   "cell_type": "code",
   "execution_count": null,
   "id": "5f7bade3",
   "metadata": {},
   "outputs": [],
   "source": [
    "import open3d as o3d\n",
    "import pandas as pd\n",
    "\n",
    "# txt file has columns: x, y, z, r, g, b\n",
    "file_path = 'area.txt'\n",
    "\n",
    "# Reading the file\n",
    "point_cloud_data = pd.read_csv(file_path, delimiter=' ', header=None, names=['x', 'y', 'z', 'r', 'g', 'b'])\n",
    "\n",
    "# Display few rows of the DataFrame\n",
    "print(point_cloud_data.head())"
   ]
  },
  {
   "cell_type": "code",
   "execution_count": null,
   "id": "b99a3ed4",
   "metadata": {},
   "outputs": [],
   "source": [
    "#Extract points and colors from DataFrame\n",
    "points = point_cloud_data[['x', 'y', 'z']].values.tolist()\n",
    "colors = (point_cloud_data[['r', 'g', 'b']].values / 255.0).tolist()\n",
    "print(\"done\")\n",
    "# Create open3d point cloud\n",
    "pcd = o3d.geometry.PointCloud()\n",
    "pcd.points = o3d.utility.Vector3dVector(points)\n",
    "pcd.colors = o3d.utility.Vector3dVector(colors)\n",
    "print(\"done\")\n",
    "# Visualize\n",
    "o3d.visualization.draw_geometries([pcd])"
   ]
  },
  {
   "cell_type": "markdown",
   "id": "4baa2755",
   "metadata": {},
   "source": [
    "### Spliting the dataset"
   ]
  },
  {
   "cell_type": "code",
   "execution_count": null,
   "id": "2a038fea",
   "metadata": {},
   "outputs": [],
   "source": [
    "# Calculate the midpoints of the data\n",
    "x_mid = point_cloud_data['x'].median()\n",
    "y_mid = point_cloud_data['y'].median()\n",
    "\n",
    "# Split the data into four parts\n",
    "part1 = point_cloud_data[(point_cloud_data['x'] >= x_mid) & (point_cloud_data['y'] >= y_mid)]\n",
    "part2 = point_cloud_data[(point_cloud_data['x'] < x_mid) & (point_cloud_data['y'] >= y_mid)]\n",
    "part3 = point_cloud_data[(point_cloud_data['x'] < x_mid) & (point_cloud_data['y'] < y_mid)]\n",
    "part4 = point_cloud_data[(point_cloud_data['x'] >= x_mid) & (point_cloud_data['y'] < y_mid)]"
   ]
  },
  {
   "cell_type": "markdown",
   "id": "a2fe596e",
   "metadata": {},
   "source": [
    "### Viewing the four parts"
   ]
  },
  {
   "cell_type": "code",
   "execution_count": null,
   "id": "9b1f4c28",
   "metadata": {},
   "outputs": [],
   "source": [
    "def create_open3d_point_cloud(data):\n",
    "    points = data[['x', 'y', 'z']].values.tolist()\n",
    "    colors = (data[['r', 'g', 'b']].values / 255.0).tolist()\n",
    "    pcd = o3d.geometry.PointCloud()\n",
    "    pcd.points = o3d.utility.Vector3dVector(points)\n",
    "    pcd.colors = o3d.utility.Vector3dVector(colors)\n",
    "    return pcd\n",
    "\n",
    "# Creating Open3D data point clouds for each part\n",
    "pcd_part1 = create_open3d_point_cloud(part1)\n",
    "pcd_part2 = create_open3d_point_cloud(part2)\n",
    "pcd_part3 = create_open3d_point_cloud(part3)\n",
    "pcd_part4 = create_open3d_point_cloud(part4)\n",
    "\n",
    "# Step 4: Visualize each point cloud in separate windows\n",
    "o3d.visualization.draw_geometries([pcd_part1], window_name='Part 1')\n",
    "o3d.visualization.draw_geometries([pcd_part2], window_name='Part 2')\n",
    "o3d.visualization.draw_geometries([pcd_part3], window_name='Part 3')\n",
    "o3d.visualization.draw_geometries([pcd_part4], window_name='Part 4')"
   ]
  },
  {
   "cell_type": "code",
   "execution_count": null,
   "id": "e23f1eed",
   "metadata": {},
   "outputs": [],
   "source": []
  }
 ],
 "metadata": {
  "kernelspec": {
   "display_name": "Python 3 (ipykernel)",
   "language": "python",
   "name": "python3"
  },
  "language_info": {
   "codemirror_mode": {
    "name": "ipython",
    "version": 3
   },
   "file_extension": ".py",
   "mimetype": "text/x-python",
   "name": "python",
   "nbconvert_exporter": "python",
   "pygments_lexer": "ipython3",
   "version": "3.7.1"
  }
 },
 "nbformat": 4,
 "nbformat_minor": 5
}
